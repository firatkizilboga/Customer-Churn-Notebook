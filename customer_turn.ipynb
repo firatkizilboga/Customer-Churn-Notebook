{
  "nbformat": 4,
  "nbformat_minor": 0,
  "metadata": {
    "colab": {
      "provenance": []
    },
    "kernelspec": {
      "name": "python3",
      "display_name": "Python 3"
    }
  },
  "cells": [
    {
      "cell_type": "code",
      "metadata": {
        "id": "GwbVCkq9EK31"
      },
      "source": [
        "import numpy as np\n",
        "import pandas as pd"
      ],
      "execution_count": null,
      "outputs": []
    },
    {
      "cell_type": "code",
      "metadata": {
        "id": "XcIKY08TErCG"
      },
      "source": [
        "data=pd.read_csv(\"/content/Churn_Modelling.csv\")"
      ],
      "execution_count": null,
      "outputs": []
    },
    {
      "cell_type": "code",
      "metadata": {
        "colab": {
          "base_uri": "https://localhost:8080/",
          "height": 226
        },
        "id": "oOBghLR-EwUo",
        "outputId": "6df1ab90-a23f-461e-89f3-047c49e2c055"
      },
      "source": [
        "data.head()"
      ],
      "execution_count": null,
      "outputs": [
        {
          "output_type": "execute_result",
          "data": {
            "text/html": [
              "<div>\n",
              "<style scoped>\n",
              "    .dataframe tbody tr th:only-of-type {\n",
              "        vertical-align: middle;\n",
              "    }\n",
              "\n",
              "    .dataframe tbody tr th {\n",
              "        vertical-align: top;\n",
              "    }\n",
              "\n",
              "    .dataframe thead th {\n",
              "        text-align: right;\n",
              "    }\n",
              "</style>\n",
              "<table border=\"1\" class=\"dataframe\">\n",
              "  <thead>\n",
              "    <tr style=\"text-align: right;\">\n",
              "      <th></th>\n",
              "      <th>RowNumber</th>\n",
              "      <th>CustomerId</th>\n",
              "      <th>Surname</th>\n",
              "      <th>CreditScore</th>\n",
              "      <th>Geography</th>\n",
              "      <th>Gender</th>\n",
              "      <th>Age</th>\n",
              "      <th>Tenure</th>\n",
              "      <th>Balance</th>\n",
              "      <th>NumOfProducts</th>\n",
              "      <th>HasCrCard</th>\n",
              "      <th>IsActiveMember</th>\n",
              "      <th>EstimatedSalary</th>\n",
              "      <th>Exited</th>\n",
              "    </tr>\n",
              "  </thead>\n",
              "  <tbody>\n",
              "    <tr>\n",
              "      <th>0</th>\n",
              "      <td>1</td>\n",
              "      <td>15634602</td>\n",
              "      <td>Hargrave</td>\n",
              "      <td>619</td>\n",
              "      <td>France</td>\n",
              "      <td>Female</td>\n",
              "      <td>42</td>\n",
              "      <td>2</td>\n",
              "      <td>0.00</td>\n",
              "      <td>1</td>\n",
              "      <td>1</td>\n",
              "      <td>1</td>\n",
              "      <td>101348.88</td>\n",
              "      <td>1</td>\n",
              "    </tr>\n",
              "    <tr>\n",
              "      <th>1</th>\n",
              "      <td>2</td>\n",
              "      <td>15647311</td>\n",
              "      <td>Hill</td>\n",
              "      <td>608</td>\n",
              "      <td>Spain</td>\n",
              "      <td>Female</td>\n",
              "      <td>41</td>\n",
              "      <td>1</td>\n",
              "      <td>83807.86</td>\n",
              "      <td>1</td>\n",
              "      <td>0</td>\n",
              "      <td>1</td>\n",
              "      <td>112542.58</td>\n",
              "      <td>0</td>\n",
              "    </tr>\n",
              "    <tr>\n",
              "      <th>2</th>\n",
              "      <td>3</td>\n",
              "      <td>15619304</td>\n",
              "      <td>Onio</td>\n",
              "      <td>502</td>\n",
              "      <td>France</td>\n",
              "      <td>Female</td>\n",
              "      <td>42</td>\n",
              "      <td>8</td>\n",
              "      <td>159660.80</td>\n",
              "      <td>3</td>\n",
              "      <td>1</td>\n",
              "      <td>0</td>\n",
              "      <td>113931.57</td>\n",
              "      <td>1</td>\n",
              "    </tr>\n",
              "    <tr>\n",
              "      <th>3</th>\n",
              "      <td>4</td>\n",
              "      <td>15701354</td>\n",
              "      <td>Boni</td>\n",
              "      <td>699</td>\n",
              "      <td>France</td>\n",
              "      <td>Female</td>\n",
              "      <td>39</td>\n",
              "      <td>1</td>\n",
              "      <td>0.00</td>\n",
              "      <td>2</td>\n",
              "      <td>0</td>\n",
              "      <td>0</td>\n",
              "      <td>93826.63</td>\n",
              "      <td>0</td>\n",
              "    </tr>\n",
              "    <tr>\n",
              "      <th>4</th>\n",
              "      <td>5</td>\n",
              "      <td>15737888</td>\n",
              "      <td>Mitchell</td>\n",
              "      <td>850</td>\n",
              "      <td>Spain</td>\n",
              "      <td>Female</td>\n",
              "      <td>43</td>\n",
              "      <td>2</td>\n",
              "      <td>125510.82</td>\n",
              "      <td>1</td>\n",
              "      <td>1</td>\n",
              "      <td>1</td>\n",
              "      <td>79084.10</td>\n",
              "      <td>0</td>\n",
              "    </tr>\n",
              "  </tbody>\n",
              "</table>\n",
              "</div>"
            ],
            "text/plain": [
              "   RowNumber  CustomerId   Surname  ...  IsActiveMember EstimatedSalary Exited\n",
              "0          1    15634602  Hargrave  ...               1       101348.88      1\n",
              "1          2    15647311      Hill  ...               1       112542.58      0\n",
              "2          3    15619304      Onio  ...               0       113931.57      1\n",
              "3          4    15701354      Boni  ...               0        93826.63      0\n",
              "4          5    15737888  Mitchell  ...               1        79084.10      0\n",
              "\n",
              "[5 rows x 14 columns]"
            ]
          },
          "metadata": {
            "tags": []
          },
          "execution_count": 3
        }
      ]
    },
    {
      "cell_type": "code",
      "metadata": {
        "id": "ENcypn9-E26Z"
      },
      "source": [
        "from sklearn.preprocessing import OneHotEncoder, LabelEncoder"
      ],
      "execution_count": null,
      "outputs": []
    },
    {
      "cell_type": "code",
      "metadata": {
        "id": "qCTgZ8H4HYTx"
      },
      "source": [
        "geo=data.pop(\"Geography\")\n",
        "gender=data.pop(\"Gender\")"
      ],
      "execution_count": null,
      "outputs": []
    },
    {
      "cell_type": "code",
      "metadata": {
        "id": "yJ998bNQFCP9"
      },
      "source": [
        "LE=LabelEncoder()\n",
        "geo=LE.fit_transform(geo)"
      ],
      "execution_count": null,
      "outputs": []
    },
    {
      "cell_type": "code",
      "metadata": {
        "colab": {
          "base_uri": "https://localhost:8080/"
        },
        "id": "aClj_GX9Fubd",
        "outputId": "19cd49a2-d04b-46d4-ec27-f0da8a4e0608"
      },
      "source": [
        "geo"
      ],
      "execution_count": null,
      "outputs": [
        {
          "output_type": "execute_result",
          "data": {
            "text/plain": [
              "array([0, 2, 0, ..., 0, 1, 0])"
            ]
          },
          "metadata": {
            "tags": []
          },
          "execution_count": 7
        }
      ]
    },
    {
      "cell_type": "code",
      "metadata": {
        "id": "ZL6yFNddFP7N"
      },
      "source": [
        "ohe=OneHotEncoder()\n",
        "geo=ohe.fit_transform(geo.reshape(-1,1)).toarray()"
      ],
      "execution_count": null,
      "outputs": []
    },
    {
      "cell_type": "code",
      "metadata": {
        "colab": {
          "base_uri": "https://localhost:8080/"
        },
        "id": "WDli1mwWFWQc",
        "outputId": "0d48399f-6629-44f2-ac0a-3f41de6eed0f"
      },
      "source": [
        "geo"
      ],
      "execution_count": null,
      "outputs": [
        {
          "output_type": "execute_result",
          "data": {
            "text/plain": [
              "array([[1., 0., 0.],\n",
              "       [0., 0., 1.],\n",
              "       [1., 0., 0.],\n",
              "       ...,\n",
              "       [1., 0., 0.],\n",
              "       [0., 1., 0.],\n",
              "       [1., 0., 0.]])"
            ]
          },
          "metadata": {
            "tags": []
          },
          "execution_count": 9
        }
      ]
    },
    {
      "cell_type": "code",
      "metadata": {
        "id": "SowntCkJGKBZ"
      },
      "source": [
        "LE=LabelEncoder()\n",
        "gender=LE.fit_transform(gender)\n",
        "ohe=OneHotEncoder()\n",
        "gender=ohe.fit_transform(gender.reshape(-1,1)).toarray()"
      ],
      "execution_count": null,
      "outputs": []
    },
    {
      "cell_type": "code",
      "metadata": {
        "id": "BFOSqQTRGV5P"
      },
      "source": [
        "geo=pd.DataFrame(geo)\n",
        "gender=pd.DataFrame(gender)\n",
        "processed_data=pd.concat([data,geo,gender],axis=1)"
      ],
      "execution_count": null,
      "outputs": []
    },
    {
      "cell_type": "code",
      "metadata": {
        "colab": {
          "base_uri": "https://localhost:8080/",
          "height": 206
        },
        "id": "ATyToYLEHCnL",
        "outputId": "9362c4a0-bbef-4483-a164-d7f625166fc5"
      },
      "source": [
        "processed_data.head()"
      ],
      "execution_count": null,
      "outputs": [
        {
          "output_type": "execute_result",
          "data": {
            "text/html": [
              "<div>\n",
              "<style scoped>\n",
              "    .dataframe tbody tr th:only-of-type {\n",
              "        vertical-align: middle;\n",
              "    }\n",
              "\n",
              "    .dataframe tbody tr th {\n",
              "        vertical-align: top;\n",
              "    }\n",
              "\n",
              "    .dataframe thead th {\n",
              "        text-align: right;\n",
              "    }\n",
              "</style>\n",
              "<table border=\"1\" class=\"dataframe\">\n",
              "  <thead>\n",
              "    <tr style=\"text-align: right;\">\n",
              "      <th></th>\n",
              "      <th>CreditScore</th>\n",
              "      <th>Age</th>\n",
              "      <th>Tenure</th>\n",
              "      <th>Balance</th>\n",
              "      <th>NumOfProducts</th>\n",
              "      <th>HasCrCard</th>\n",
              "      <th>IsActiveMember</th>\n",
              "      <th>EstimatedSalary</th>\n",
              "      <th>0</th>\n",
              "      <th>1</th>\n",
              "      <th>2</th>\n",
              "      <th>0</th>\n",
              "    </tr>\n",
              "  </thead>\n",
              "  <tbody>\n",
              "    <tr>\n",
              "      <th>0</th>\n",
              "      <td>619</td>\n",
              "      <td>42</td>\n",
              "      <td>2</td>\n",
              "      <td>0.00</td>\n",
              "      <td>1</td>\n",
              "      <td>1</td>\n",
              "      <td>1</td>\n",
              "      <td>101348.88</td>\n",
              "      <td>1.0</td>\n",
              "      <td>0.0</td>\n",
              "      <td>0.0</td>\n",
              "      <td>1.0</td>\n",
              "    </tr>\n",
              "    <tr>\n",
              "      <th>1</th>\n",
              "      <td>608</td>\n",
              "      <td>41</td>\n",
              "      <td>1</td>\n",
              "      <td>83807.86</td>\n",
              "      <td>1</td>\n",
              "      <td>0</td>\n",
              "      <td>1</td>\n",
              "      <td>112542.58</td>\n",
              "      <td>0.0</td>\n",
              "      <td>0.0</td>\n",
              "      <td>1.0</td>\n",
              "      <td>1.0</td>\n",
              "    </tr>\n",
              "    <tr>\n",
              "      <th>2</th>\n",
              "      <td>502</td>\n",
              "      <td>42</td>\n",
              "      <td>8</td>\n",
              "      <td>159660.80</td>\n",
              "      <td>3</td>\n",
              "      <td>1</td>\n",
              "      <td>0</td>\n",
              "      <td>113931.57</td>\n",
              "      <td>1.0</td>\n",
              "      <td>0.0</td>\n",
              "      <td>0.0</td>\n",
              "      <td>1.0</td>\n",
              "    </tr>\n",
              "    <tr>\n",
              "      <th>3</th>\n",
              "      <td>699</td>\n",
              "      <td>39</td>\n",
              "      <td>1</td>\n",
              "      <td>0.00</td>\n",
              "      <td>2</td>\n",
              "      <td>0</td>\n",
              "      <td>0</td>\n",
              "      <td>93826.63</td>\n",
              "      <td>1.0</td>\n",
              "      <td>0.0</td>\n",
              "      <td>0.0</td>\n",
              "      <td>1.0</td>\n",
              "    </tr>\n",
              "    <tr>\n",
              "      <th>4</th>\n",
              "      <td>850</td>\n",
              "      <td>43</td>\n",
              "      <td>2</td>\n",
              "      <td>125510.82</td>\n",
              "      <td>1</td>\n",
              "      <td>1</td>\n",
              "      <td>1</td>\n",
              "      <td>79084.10</td>\n",
              "      <td>0.0</td>\n",
              "      <td>0.0</td>\n",
              "      <td>1.0</td>\n",
              "      <td>1.0</td>\n",
              "    </tr>\n",
              "  </tbody>\n",
              "</table>\n",
              "</div>"
            ],
            "text/plain": [
              "   CreditScore  Age  Tenure    Balance  ...    0    1    2    0\n",
              "0          619   42       2       0.00  ...  1.0  0.0  0.0  1.0\n",
              "1          608   41       1   83807.86  ...  0.0  0.0  1.0  1.0\n",
              "2          502   42       8  159660.80  ...  1.0  0.0  0.0  1.0\n",
              "3          699   39       1       0.00  ...  1.0  0.0  0.0  1.0\n",
              "4          850   43       2  125510.82  ...  0.0  0.0  1.0  1.0\n",
              "\n",
              "[5 rows x 12 columns]"
            ]
          },
          "metadata": {
            "tags": []
          },
          "execution_count": 17
        }
      ]
    },
    {
      "cell_type": "code",
      "metadata": {
        "id": "eDSaHvhPHxow"
      },
      "source": [
        "processed_data=processed_data.iloc[:,3:-1]"
      ],
      "execution_count": null,
      "outputs": []
    },
    {
      "cell_type": "code",
      "metadata": {
        "id": "UPs3nfiwIIgX"
      },
      "source": [
        "y=processed_data.pop(\"Exited\")"
      ],
      "execution_count": null,
      "outputs": []
    },
    {
      "cell_type": "code",
      "metadata": {
        "id": "0_3dHCs4IMTh"
      },
      "source": [
        "from sklearn.model_selection import train_test_split\n",
        "x_train, x_test, y_train, y_test = train_test_split(processed_data, y, test_size=0.33)"
      ],
      "execution_count": null,
      "outputs": []
    },
    {
      "cell_type": "code",
      "metadata": {
        "colab": {
          "base_uri": "https://localhost:8080/"
        },
        "id": "70DC0svdIdd-",
        "outputId": "ff484539-a054-489c-d9ed-16a6a6dd56f8"
      },
      "source": [
        "from tensorflow.keras.layers import Dense\n",
        "from tensorflow.keras.models import Sequential\n",
        "model=Sequential()\n",
        "model.add(Dense(12,activation=\"relu\"))\n",
        "model.add(Dense(24,activation=\"relu\"))\n",
        "model.add(Dense(24,activation=\"relu\"))\n",
        "model.add(Dense(24,activation=\"relu\"))\n",
        "model.add(Dense(1,activation=\"sigmoid\"))\n",
        "model.compile(optimizer=\"adam\", loss=\"binary_crossentropy\")\n",
        "model.fit(x_train,y_train, epochs=50, batch_size=20)"
      ],
      "execution_count": null,
      "outputs": [
        {
          "output_type": "stream",
          "text": [
            "Epoch 1/50\n",
            "335/335 [==============================] - 1s 1ms/step - loss: 206.9699\n",
            "Epoch 2/50\n",
            "335/335 [==============================] - 1s 1ms/step - loss: 58.0452\n",
            "Epoch 3/50\n",
            "335/335 [==============================] - 1s 2ms/step - loss: 39.5993\n",
            "Epoch 4/50\n",
            "335/335 [==============================] - 1s 2ms/step - loss: 37.1771\n",
            "Epoch 5/50\n",
            "335/335 [==============================] - 1s 1ms/step - loss: 43.7725\n",
            "Epoch 6/50\n",
            "335/335 [==============================] - 1s 2ms/step - loss: 37.4704\n",
            "Epoch 7/50\n",
            "335/335 [==============================] - 1s 2ms/step - loss: 29.8492\n",
            "Epoch 8/50\n",
            "335/335 [==============================] - 1s 2ms/step - loss: 27.2025\n",
            "Epoch 9/50\n",
            "335/335 [==============================] - 1s 2ms/step - loss: 22.2483\n",
            "Epoch 10/50\n",
            "335/335 [==============================] - 1s 1ms/step - loss: 20.6925\n",
            "Epoch 11/50\n",
            "335/335 [==============================] - 1s 1ms/step - loss: 24.1222\n",
            "Epoch 12/50\n",
            "335/335 [==============================] - 0s 1ms/step - loss: 24.7165\n",
            "Epoch 13/50\n",
            "335/335 [==============================] - 1s 2ms/step - loss: 15.3071\n",
            "Epoch 14/50\n",
            "335/335 [==============================] - 0s 1ms/step - loss: 14.1364\n",
            "Epoch 15/50\n",
            "335/335 [==============================] - 0s 1ms/step - loss: 13.4286\n",
            "Epoch 16/50\n",
            "335/335 [==============================] - 0s 1ms/step - loss: 10.7471\n",
            "Epoch 17/50\n",
            "335/335 [==============================] - 1s 2ms/step - loss: 11.4308\n",
            "Epoch 18/50\n",
            "335/335 [==============================] - 1s 2ms/step - loss: 9.7381\n",
            "Epoch 19/50\n",
            "335/335 [==============================] - 1s 1ms/step - loss: 7.7449\n",
            "Epoch 20/50\n",
            "335/335 [==============================] - 1s 2ms/step - loss: 6.2881\n",
            "Epoch 21/50\n",
            "335/335 [==============================] - 1s 2ms/step - loss: 7.4038\n",
            "Epoch 22/50\n",
            "335/335 [==============================] - 1s 1ms/step - loss: 6.7457\n",
            "Epoch 23/50\n",
            "335/335 [==============================] - 1s 2ms/step - loss: 5.9216\n",
            "Epoch 24/50\n",
            "335/335 [==============================] - 0s 1ms/step - loss: 4.8761\n",
            "Epoch 25/50\n",
            "335/335 [==============================] - 0s 1ms/step - loss: 4.7320\n",
            "Epoch 26/50\n",
            "335/335 [==============================] - 1s 2ms/step - loss: 3.9581\n",
            "Epoch 27/50\n",
            "335/335 [==============================] - 1s 2ms/step - loss: 3.3594\n",
            "Epoch 28/50\n",
            "335/335 [==============================] - 1s 2ms/step - loss: 2.7045\n",
            "Epoch 29/50\n",
            "335/335 [==============================] - 1s 2ms/step - loss: 2.3010\n",
            "Epoch 30/50\n",
            "335/335 [==============================] - 1s 1ms/step - loss: 2.1319\n",
            "Epoch 31/50\n",
            "335/335 [==============================] - 1s 2ms/step - loss: 1.6536\n",
            "Epoch 32/50\n",
            "335/335 [==============================] - 0s 1ms/step - loss: 1.5044\n",
            "Epoch 33/50\n",
            "335/335 [==============================] - 1s 2ms/step - loss: 1.0462\n",
            "Epoch 34/50\n",
            "335/335 [==============================] - 1s 1ms/step - loss: 1.6611\n",
            "Epoch 35/50\n",
            "335/335 [==============================] - 1s 2ms/step - loss: 1.1208\n",
            "Epoch 36/50\n",
            "335/335 [==============================] - 1s 2ms/step - loss: 0.9251\n",
            "Epoch 37/50\n",
            "335/335 [==============================] - 1s 2ms/step - loss: 0.9189\n",
            "Epoch 38/50\n",
            "335/335 [==============================] - 1s 1ms/step - loss: 0.6809\n",
            "Epoch 39/50\n",
            "335/335 [==============================] - 1s 2ms/step - loss: 0.5916\n",
            "Epoch 40/50\n",
            "335/335 [==============================] - 1s 2ms/step - loss: 0.7856\n",
            "Epoch 41/50\n",
            "335/335 [==============================] - 0s 1ms/step - loss: 0.5830\n",
            "Epoch 42/50\n",
            "335/335 [==============================] - 0s 1ms/step - loss: 0.5599\n",
            "Epoch 43/50\n",
            "335/335 [==============================] - 1s 2ms/step - loss: 0.7006\n",
            "Epoch 44/50\n",
            "335/335 [==============================] - 1s 1ms/step - loss: 1.3663\n",
            "Epoch 45/50\n",
            "335/335 [==============================] - 1s 2ms/step - loss: 0.6316\n",
            "Epoch 46/50\n",
            "335/335 [==============================] - 1s 2ms/step - loss: 0.6412\n",
            "Epoch 47/50\n",
            "335/335 [==============================] - 1s 2ms/step - loss: 0.6548\n",
            "Epoch 48/50\n",
            "335/335 [==============================] - 1s 2ms/step - loss: 0.5545\n",
            "Epoch 49/50\n",
            "335/335 [==============================] - 0s 1ms/step - loss: 0.5674\n",
            "Epoch 50/50\n",
            "335/335 [==============================] - 1s 2ms/step - loss: 0.5546\n"
          ],
          "name": "stdout"
        },
        {
          "output_type": "execute_result",
          "data": {
            "text/plain": [
              "<tensorflow.python.keras.callbacks.History at 0x7f251245a668>"
            ]
          },
          "metadata": {
            "tags": []
          },
          "execution_count": 51
        }
      ]
    },
    {
      "cell_type": "code",
      "metadata": {
        "colab": {
          "base_uri": "https://localhost:8080/"
        },
        "id": "IYfIqW4zJjzP",
        "outputId": "34a1e588-9373-4124-bff4-46f943e487ab"
      },
      "source": [
        "prediction=model.predict(x_test)\n",
        "from sklearn.metrics import confusion_matrix, accuracy_score\n",
        "prediction[prediction>0.5]=1\n",
        "prediction[prediction<=0.5]=0\n",
        "confusion_matrix(y_test,prediction)\n",
        "accuracy_score(y_test,prediction)"
      ],
      "execution_count": null,
      "outputs": [
        {
          "output_type": "execute_result",
          "data": {
            "text/plain": [
              "0.8015151515151515"
            ]
          },
          "metadata": {
            "tags": []
          },
          "execution_count": 52
        }
      ]
    },
    {
      "cell_type": "code",
      "metadata": {
        "colab": {
          "base_uri": "https://localhost:8080/"
        },
        "id": "nnK6A34nKvAn",
        "outputId": "2970d165-58e5-4280-8a1d-98d86b284dfd"
      },
      "source": [
        "!pip install xgboost"
      ],
      "execution_count": null,
      "outputs": [
        {
          "output_type": "stream",
          "text": [
            "Requirement already satisfied: xgboost in /usr/local/lib/python3.6/dist-packages (0.90)\n",
            "Requirement already satisfied: numpy in /usr/local/lib/python3.6/dist-packages (from xgboost) (1.19.5)\n",
            "Requirement already satisfied: scipy in /usr/local/lib/python3.6/dist-packages (from xgboost) (1.4.1)\n"
          ],
          "name": "stdout"
        }
      ]
    },
    {
      "cell_type": "code",
      "metadata": {
        "colab": {
          "base_uri": "https://localhost:8080/"
        },
        "id": "4PQVti4gKxPg",
        "outputId": "aaa661fc-e951-4230-9914-dcf6091f32dd"
      },
      "source": [
        "x_train.columns = [1,2,3,4,5,6,7,8,9,10,11,12]\n",
        "x_test.columns = [1,2,3,4,5,6,7,8,9,10,11,12]\n",
        "\n",
        "import xgboost as xgb\n",
        "classifier=xgb.XGBClassifier()\n",
        "classifier.fit(x_train,y_train)\n",
        "y_pred=classifier.predict(x_test)\n",
        "confusion_matrix(y_test,y_pred)\n",
        "accuracy_score(y_test,y_pred)"
      ],
      "execution_count": null,
      "outputs": [
        {
          "output_type": "execute_result",
          "data": {
            "text/plain": [
              "0.8654545454545455"
            ]
          },
          "metadata": {
            "tags": []
          },
          "execution_count": 49
        }
      ]
    },
    {
      "cell_type": "code",
      "metadata": {
        "colab": {
          "base_uri": "https://localhost:8080/"
        },
        "id": "qu1y_hL1MqwA",
        "outputId": "86455efd-8ef7-4726-ea7b-aa533a934ae8"
      },
      "source": [
        "from sklearn.neighbors import KNeighborsClassifier\n",
        "knn=KNeighborsClassifier(n_neighbors=15)\n",
        "knn.fit(x_train,y_train)\n",
        "y_pred = knn.predict(x_test)\n",
        "confusion_matrix(y_test,y_pred)\n",
        "accuracy_score(y_test,y_pred)"
      ],
      "execution_count": null,
      "outputs": [
        {
          "output_type": "execute_result",
          "data": {
            "text/plain": [
              "0.7978787878787879"
            ]
          },
          "metadata": {
            "tags": []
          },
          "execution_count": 48
        }
      ]
    }
  ]
}